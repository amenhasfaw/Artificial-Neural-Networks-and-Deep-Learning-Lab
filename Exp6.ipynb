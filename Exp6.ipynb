{
 "cells": [
  {
   "cell_type": "markdown",
   "metadata": {},
   "source": [
    "Python program implemen1ng the training process of an Ar1ficial Neural Network, covering forward propaga1on and backpropaga1on, fundamental steps in neural network training"
   ]
  },
  {
   "cell_type": "code",
   "execution_count": 1,
   "metadata": {},
   "outputs": [],
   "source": [
    "import numpy as np"
   ]
  },
  {
   "cell_type": "code",
   "execution_count": 2,
   "metadata": {},
   "outputs": [],
   "source": [
    "def sigmoid(x):\n",
    "    return 1 / (1 + np.exp(-x))\n",
    "\n",
    "def sigmoid_deriva1ve(x):\n",
    "    return x * (1 - x)"
   ]
  },
  {
   "cell_type": "code",
   "execution_count": 3,
   "metadata": {},
   "outputs": [],
   "source": [
    "def train_neural_network(X, y, learning_rate, epochs):\n",
    "    input_neurons = X.shape[1]\n",
    "    hidden_neurons = 4\n",
    "    output_neurons = y.shape[1]\n",
    "\n",
    "    hidden_weights = np.random.uniform(size=(input_neurons, hidden_neurons))\n",
    "    hidden_bias = np.random.uniform(size=(1, hidden_neurons))\n",
    "    output_weights = np.random.uniform(size=(hidden_neurons, output_neurons))\n",
    "    output_bias = np.random.uniform(size=(1, output_neurons))\n",
    "\n",
    "    for i in range(epochs):\n",
    "        hidden_layer_ac1va1on = np.dot(X, hidden_weights) + hidden_bias\n",
    "        hidden_layer_output = sigmoid(hidden_layer_ac1va1on)\n",
    "\n",
    "        output_layer_ac1va1on = np.dot(hidden_layer_output, output_weights) + output_bias\n",
    "        predicted_output = sigmoid(output_layer_ac1va1on)\n",
    "\n",
    "        error = y - predicted_output\n",
    "        d_predicted_output = error * sigmoid_deriva1ve(predicted_output)\n",
    "\n",
    "        error_hidden_layer = d_predicted_output.dot(output_weights.T)\n",
    "        d_hidden_layer = error_hidden_layer * sigmoid_deriva1ve(hidden_layer_output)\n",
    "\n",
    "        output_weights += hidden_layer_output.T.dot(d_predicted_output) * learning_rate\n",
    "        output_bias += np.sum(d_predicted_output, axis=0, keepdims=True) * learning_rate\n",
    "        hidden_weights += X.T.dot(d_hidden_layer) * learning_rate\n",
    "        hidden_bias += np.sum(d_hidden_layer, axis=0, keepdims=True) * learning_rate\n",
    "\n",
    "    return predicted_output"
   ]
  },
  {
   "cell_type": "code",
   "execution_count": 4,
   "metadata": {},
   "outputs": [
    {
     "name": "stdout",
     "output_type": "stream",
     "text": [
      "[[0.05543425]\n",
      " [0.95112663]\n",
      " [0.95149137]\n",
      " [0.04912593]]\n"
     ]
    }
   ],
   "source": [
    "X = np.array([[0, 0, 1], [0, 1, 1], [1, 0, 1], [1, 1, 1]])\n",
    "y = np.array([[0], [1], [1], [0]])\n",
    "predicted_output = train_neural_network(X, y, learning_rate=0.1, epochs=10000)\n",
    "\n",
    "print(predicted_output)"
   ]
  }
 ],
 "metadata": {
  "kernelspec": {
   "display_name": "base",
   "language": "python",
   "name": "python3"
  },
  "language_info": {
   "codemirror_mode": {
    "name": "ipython",
    "version": 3
   },
   "file_extension": ".py",
   "mimetype": "text/x-python",
   "name": "python",
   "nbconvert_exporter": "python",
   "pygments_lexer": "ipython3",
   "version": "3.9.7"
  }
 },
 "nbformat": 4,
 "nbformat_minor": 2
}

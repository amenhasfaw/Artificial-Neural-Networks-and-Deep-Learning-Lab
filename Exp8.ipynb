{
 "cells": [
  {
   "cell_type": "markdown",
   "metadata": {},
   "source": [
    "Python program illustrating an ART (Adaptive Resonance Theory) neural network, showcasing its self-organizing and adaptive capabilities"
   ]
  },
  {
   "cell_type": "code",
   "execution_count": 2,
   "metadata": {},
   "outputs": [],
   "source": [
    "import numpy as np"
   ]
  },
  {
   "cell_type": "code",
   "execution_count": 3,
   "metadata": {},
   "outputs": [],
   "source": [
    "def initialize_weights(input_dim, category):\n",
    "    weights = np.random.uniform(size=(input_dim,))\n",
    "    weights /= np.sum(weights)\n",
    "    return weights\n",
    "\n",
    "def calculate_similarity(input_pattern, weights):\n",
    "    return np.minimum(input_pattern, weights).sum()\n",
    "\n",
    "def update_weights(input_pattern, weights, vigilance):\n",
    "    while True:\n",
    "        activation = calculate_similarity(input_pattern, weights)\n",
    "        if activation >= vigilance:\n",
    "            return weights\n",
    "        else:\n",
    "            weights[np.argmax(input_pattern)] += 1\n",
    "            weights /= np.sum(weights)\n",
    "\n",
    "def ART_neural_network(input_patterns, vigilance):\n",
    "    num_patterns, input_dim = input_patterns.shape\n",
    "    categories = []\n",
    "    for pattern in input_patterns:\n",
    "        matched_category = None\n",
    "        for category in categories:\n",
    "            if calculate_similarity(pattern, category[\"weights\"]) >= vigilance:\n",
    "                matched_category = category\n",
    "                break\n",
    "\n",
    "        if matched_category is None:\n",
    "            weights = initialize_weights(input_dim, len(categories))\n",
    "            matched_category = {\"weights\": weights, \"patterns\": []}\n",
    "            categories.append(matched_category)\n",
    "\n",
    "        matched_category[\"patterns\"].append(pattern)\n",
    "        matched_category[\"weights\"] = update_weights(pattern, matched_category[\"weights\"],\n",
    "        vigilance)\n",
    "\n",
    "    return categories"
   ]
  },
  {
   "cell_type": "code",
   "execution_count": 4,
   "metadata": {},
   "outputs": [
    {
     "name": "stdout",
     "output_type": "stream",
     "text": [
      "Category 1:\n",
      "Patterns:\n",
      "[1 0 1 0]\n",
      "[1 1 1 0]\n",
      "Weights:\n",
      "[0.61701452 0.13139707 0.11880936 0.13277905]\n",
      "\n",
      "Category 2:\n",
      "Patterns:\n",
      "[0 1 0 1]\n",
      "Weights:\n",
      "[0.20641995 0.6647476  0.10517666 0.02365579]\n",
      "\n"
     ]
    }
   ],
   "source": [
    "input_patterns = np.array([[1, 0, 1, 0], [0, 1, 0, 1], [1, 1, 1, 0]])\n",
    "vigilance = 0.5\n",
    "categories = ART_neural_network(input_patterns, vigilance)\n",
    "\n",
    "for i, category in enumerate(categories):\n",
    "    print(f\"Category {i+1}:\")\n",
    "    print(\"Patterns:\")\n",
    "    [print(pattern) for pattern in category[\"patterns\"]]\n",
    "    print(\"Weights:\")\n",
    "    print(category[\"weights\"])\n",
    "    print()"
   ]
  }
 ],
 "metadata": {
  "kernelspec": {
   "display_name": "base",
   "language": "python",
   "name": "python3"
  },
  "language_info": {
   "codemirror_mode": {
    "name": "ipython",
    "version": 3
   },
   "file_extension": ".py",
   "mimetype": "text/x-python",
   "name": "python",
   "nbconvert_exporter": "python",
   "pygments_lexer": "ipython3",
   "version": "3.9.7"
  }
 },
 "nbformat": 4,
 "nbformat_minor": 2
}

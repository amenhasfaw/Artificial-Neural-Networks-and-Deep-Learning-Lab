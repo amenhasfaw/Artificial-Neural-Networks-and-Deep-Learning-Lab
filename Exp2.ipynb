{
 "cells": [
  {
   "cell_type": "markdown",
   "metadata": {},
   "source": [
    "Generate the ANDNOT function using a McCulloch-Pitts neural network, showcasing the simplicity and capability of early neural network models."
   ]
  },
  {
   "cell_type": "code",
   "execution_count": 1,
   "metadata": {},
   "outputs": [],
   "source": [
    "import numpy as np"
   ]
  },
  {
   "cell_type": "code",
   "execution_count": 2,
   "metadata": {},
   "outputs": [
    {
     "name": "stdout",
     "output_type": "stream",
     "text": [
      "0\n",
      "1\n",
      "0\n",
      "0\n"
     ]
    }
   ],
   "source": [
    "def mp_neuron(inputs, weights, threshold):\n",
    "    weighted_sum = np.dot(inputs, weights)\n",
    "    output = 1 if weighted_sum >= threshold else 0\n",
    "    return output\n",
    "\n",
    "def and_not(x1, x2):\n",
    "    weights = [1, -1]\n",
    "    threshold = 1\n",
    "    inputs = np.array([x1, x2])\n",
    "    output = mp_neuron(inputs, weights, threshold)\n",
    "    return output\n",
    "\n",
    "\n",
    "print(and_not(0, 0))\n",
    "print(and_not(1, 0))\n",
    "print(and_not(0, 1))\n",
    "print(and_not(1, 1))"
   ]
  }
 ],
 "metadata": {
  "kernelspec": {
   "display_name": "base",
   "language": "python",
   "name": "python3"
  },
  "language_info": {
   "codemirror_mode": {
    "name": "ipython",
    "version": 3
   },
   "file_extension": ".py",
   "mimetype": "text/x-python",
   "name": "python",
   "nbconvert_exporter": "python",
   "pygments_lexer": "ipython3",
   "version": "3.9.7"
  }
 },
 "nbformat": 4,
 "nbformat_minor": 2
}

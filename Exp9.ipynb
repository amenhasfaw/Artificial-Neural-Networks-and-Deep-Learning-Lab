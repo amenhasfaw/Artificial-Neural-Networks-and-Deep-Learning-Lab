{
 "cells": [
  {
   "cell_type": "markdown",
   "metadata": {},
   "source": [
    "Python program designing a Hopfield Network to store and recall four vectors, demonstrating associative memory capabilities."
   ]
  },
  {
   "cell_type": "code",
   "execution_count": 4,
   "metadata": {},
   "outputs": [],
   "source": [
    "import numpy as np\n",
    "class HopfieldNetwork:\n",
    "    def __init__(self, size):\n",
    "        self.size = size\n",
    "        self.weights = np.zeros((size, size))\n",
    "    def train(self, patterns):\n",
    "        # Train the network using the outer product rule\n",
    "        for pattern in patterns:\n",
    "            self.weights += np.outer(pattern, pattern)\n",
    "        # Ensure no self-connections\n",
    "        np.fill_diagonal(self.weights, 0)\n",
    "    def sign(self, x):\n",
    "        # Sign function to determine activation (threshold at 0)\n",
    "        return np.where(x >= 0, 1, -1)\n",
    "    def recall(self, pattern, steps=10):\n",
    "        # Recall a pattern using asynchronous update\n",
    "        for _ in range(steps):\n",
    "            for i in range(self.size):\n",
    "                raw_value = np.dot(self.weights[i], pattern)\n",
    "                pattern[i] = self.sign(raw_value)\n",
    "        return pattern"
   ]
  },
  {
   "cell_type": "code",
   "execution_count": 5,
   "metadata": {},
   "outputs": [],
   "source": [
    "# Define the size of the patterns (number of neurons)\n",
    "size = 8\n",
    "\n",
    "# Initialize the Hopfield network\n",
    "hopfield_net = HopfieldNetwork(size)\n",
    "\n",
    "# Define four patterns to store (each of size 8)\n",
    "patterns = np.array([\n",
    "[1, -1, 1, -1, 1, -1, 1, -1],\n",
    "[1, 1, -1, -1, 1, 1, -1, -1],\n",
    "[-1, 1, -1, 1, -1, 1, -1, 1],\n",
    "[-1, -1, 1, 1, -1, -1, 1, 1]\n",
    "])"
   ]
  },
  {
   "cell_type": "code",
   "execution_count": 6,
   "metadata": {},
   "outputs": [
    {
     "name": "stdout",
     "output_type": "stream",
     "text": [
      "Noisy input: [ 1 -1  1 -1  1  1  1 -1]\n",
      "Recalled pattern: [ 1 -1  1 -1  1 -1  1 -1]\n"
     ]
    }
   ],
   "source": [
    "# Train the network with these patterns\n",
    "hopfield_net.train(patterns)\n",
    "\n",
    "# Test recall of a stored pattern (adding noise)\n",
    "test_pattern = np.array([1, -1, 1, -1, 1, 1, 1, -1]) # Slightly noisy version of the first pattern\n",
    "print(\"Noisy input:\", test_pattern)\n",
    "\n",
    "# Use the network to recall the pattern\n",
    "recalled_pattern = hopfield_net.recall(test_pattern.copy())\n",
    "print(\"Recalled pattern:\", recalled_pattern)"
   ]
  }
 ],
 "metadata": {
  "kernelspec": {
   "display_name": "ML",
   "language": "python",
   "name": "python3"
  },
  "language_info": {
   "codemirror_mode": {
    "name": "ipython",
    "version": 3
   },
   "file_extension": ".py",
   "mimetype": "text/x-python",
   "name": "python",
   "nbconvert_exporter": "python",
   "pygments_lexer": "ipython3",
   "version": "3.9.16"
  }
 },
 "nbformat": 4,
 "nbformat_minor": 2
}
